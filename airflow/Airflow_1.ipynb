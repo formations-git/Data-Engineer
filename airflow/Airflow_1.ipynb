{
 "cells": [
  {
   "cell_type": "markdown",
   "id": "3fc11d3c-cc24-45e0-ad27-676e390d6375",
   "metadata": {},
   "source": [
    "### 1. Nombre de filme produit dans chaque pays "
   ]
  },
  {
   "cell_type": "code",
   "execution_count": 1,
   "id": "fee051f4-26e9-4a82-8b9e-79efa109dc77",
   "metadata": {
    "scrolled": true
   },
   "outputs": [
    {
     "data": {
      "text/html": [
       "<div>\n",
       "<style scoped>\n",
       "    .dataframe tbody tr th:only-of-type {\n",
       "        vertical-align: middle;\n",
       "    }\n",
       "\n",
       "    .dataframe tbody tr th {\n",
       "        vertical-align: top;\n",
       "    }\n",
       "\n",
       "    .dataframe thead th {\n",
       "        text-align: right;\n",
       "    }\n",
       "</style>\n",
       "<table border=\"1\" class=\"dataframe\">\n",
       "  <thead>\n",
       "    <tr style=\"text-align: right;\">\n",
       "      <th></th>\n",
       "      <th>show_id</th>\n",
       "      <th>type</th>\n",
       "      <th>title</th>\n",
       "      <th>director</th>\n",
       "      <th>cast</th>\n",
       "      <th>country</th>\n",
       "      <th>date_added</th>\n",
       "      <th>release_year</th>\n",
       "      <th>rating</th>\n",
       "      <th>duration</th>\n",
       "      <th>listed_in</th>\n",
       "      <th>description</th>\n",
       "    </tr>\n",
       "  </thead>\n",
       "  <tbody>\n",
       "    <tr>\n",
       "      <th>0</th>\n",
       "      <td>s1</td>\n",
       "      <td>TV Show</td>\n",
       "      <td>3%</td>\n",
       "      <td>NaN</td>\n",
       "      <td>João Miguel, Bianca Comparato, Michel Gomes, R...</td>\n",
       "      <td>Brazil</td>\n",
       "      <td>August 14, 2020</td>\n",
       "      <td>2020</td>\n",
       "      <td>TV-MA</td>\n",
       "      <td>4 Seasons</td>\n",
       "      <td>International TV Shows, TV Dramas, TV Sci-Fi &amp;...</td>\n",
       "      <td>In a future where the elite inhabit an island ...</td>\n",
       "    </tr>\n",
       "    <tr>\n",
       "      <th>1</th>\n",
       "      <td>s2</td>\n",
       "      <td>Movie</td>\n",
       "      <td>7:19</td>\n",
       "      <td>Jorge Michel Grau</td>\n",
       "      <td>Demián Bichir, Héctor Bonilla, Oscar Serrano, ...</td>\n",
       "      <td>Mexico</td>\n",
       "      <td>December 23, 2016</td>\n",
       "      <td>2016</td>\n",
       "      <td>TV-MA</td>\n",
       "      <td>93 min</td>\n",
       "      <td>Dramas, International Movies</td>\n",
       "      <td>After a devastating earthquake hits Mexico Cit...</td>\n",
       "    </tr>\n",
       "    <tr>\n",
       "      <th>2</th>\n",
       "      <td>s3</td>\n",
       "      <td>Movie</td>\n",
       "      <td>23:59</td>\n",
       "      <td>Gilbert Chan</td>\n",
       "      <td>Tedd Chan, Stella Chung, Henley Hii, Lawrence ...</td>\n",
       "      <td>Singapore</td>\n",
       "      <td>December 20, 2018</td>\n",
       "      <td>2011</td>\n",
       "      <td>R</td>\n",
       "      <td>78 min</td>\n",
       "      <td>Horror Movies, International Movies</td>\n",
       "      <td>When an army recruit is found dead, his fellow...</td>\n",
       "    </tr>\n",
       "    <tr>\n",
       "      <th>3</th>\n",
       "      <td>s4</td>\n",
       "      <td>Movie</td>\n",
       "      <td>9</td>\n",
       "      <td>Shane Acker</td>\n",
       "      <td>Elijah Wood, John C. Reilly, Jennifer Connelly...</td>\n",
       "      <td>United States</td>\n",
       "      <td>November 16, 2017</td>\n",
       "      <td>2009</td>\n",
       "      <td>PG-13</td>\n",
       "      <td>80 min</td>\n",
       "      <td>Action &amp; Adventure, Independent Movies, Sci-Fi...</td>\n",
       "      <td>In a postapocalyptic world, rag-doll robots hi...</td>\n",
       "    </tr>\n",
       "    <tr>\n",
       "      <th>4</th>\n",
       "      <td>s5</td>\n",
       "      <td>Movie</td>\n",
       "      <td>21</td>\n",
       "      <td>Robert Luketic</td>\n",
       "      <td>Jim Sturgess, Kevin Spacey, Kate Bosworth, Aar...</td>\n",
       "      <td>United States</td>\n",
       "      <td>January 1, 2020</td>\n",
       "      <td>2008</td>\n",
       "      <td>PG-13</td>\n",
       "      <td>123 min</td>\n",
       "      <td>Dramas</td>\n",
       "      <td>A brilliant group of students become card-coun...</td>\n",
       "    </tr>\n",
       "  </tbody>\n",
       "</table>\n",
       "</div>"
      ],
      "text/plain": [
       "  show_id     type  title           director  \\\n",
       "0      s1  TV Show     3%                NaN   \n",
       "1      s2    Movie   7:19  Jorge Michel Grau   \n",
       "2      s3    Movie  23:59       Gilbert Chan   \n",
       "3      s4    Movie      9        Shane Acker   \n",
       "4      s5    Movie     21     Robert Luketic   \n",
       "\n",
       "                                                cast        country  \\\n",
       "0  João Miguel, Bianca Comparato, Michel Gomes, R...         Brazil   \n",
       "1  Demián Bichir, Héctor Bonilla, Oscar Serrano, ...         Mexico   \n",
       "2  Tedd Chan, Stella Chung, Henley Hii, Lawrence ...      Singapore   \n",
       "3  Elijah Wood, John C. Reilly, Jennifer Connelly...  United States   \n",
       "4  Jim Sturgess, Kevin Spacey, Kate Bosworth, Aar...  United States   \n",
       "\n",
       "          date_added  release_year rating   duration  \\\n",
       "0    August 14, 2020          2020  TV-MA  4 Seasons   \n",
       "1  December 23, 2016          2016  TV-MA     93 min   \n",
       "2  December 20, 2018          2011      R     78 min   \n",
       "3  November 16, 2017          2009  PG-13     80 min   \n",
       "4    January 1, 2020          2008  PG-13    123 min   \n",
       "\n",
       "                                           listed_in  \\\n",
       "0  International TV Shows, TV Dramas, TV Sci-Fi &...   \n",
       "1                       Dramas, International Movies   \n",
       "2                Horror Movies, International Movies   \n",
       "3  Action & Adventure, Independent Movies, Sci-Fi...   \n",
       "4                                             Dramas   \n",
       "\n",
       "                                         description  \n",
       "0  In a future where the elite inhabit an island ...  \n",
       "1  After a devastating earthquake hits Mexico Cit...  \n",
       "2  When an army recruit is found dead, his fellow...  \n",
       "3  In a postapocalyptic world, rag-doll robots hi...  \n",
       "4  A brilliant group of students become card-coun...  "
      ]
     },
     "execution_count": 1,
     "metadata": {},
     "output_type": "execute_result"
    }
   ],
   "source": [
    "import pandas as pd\n",
    "file = \"D:/Formation_Python/Formation_Python_udemy/exercices/sources/chp-014_bases-de-la-data-science/netflix_titles.csv\"\n",
    "df = pd.read_csv(file)\n",
    "df.head() "
   ]
  },
  {
   "cell_type": "code",
   "execution_count": 17,
   "id": "a4d8c7ce-6745-4508-822f-becf7fe7bab8",
   "metadata": {},
   "outputs": [
    {
     "data": {
      "text/plain": [
       "country\n",
       "United States                                     2555\n",
       "India                                              923\n",
       "United Kingdom                                     397\n",
       "Japan                                              226\n",
       "South Korea                                        183\n",
       "                                                  ... \n",
       "Germany, United States, United Kingdom, Canada       1\n",
       "Peru, United States, United Kingdom                  1\n",
       "Saudi Arabia, United Arab Emirates                   1\n",
       "United Kingdom, France, United States, Belgium       1\n",
       "France, Norway, Lebanon, Belgium                     1\n",
       "Name: count, Length: 681, dtype: int64"
      ]
     },
     "execution_count": 17,
     "metadata": {},
     "output_type": "execute_result"
    }
   ],
   "source": [
    "df.country.value_counts()"
   ]
  },
  {
   "cell_type": "markdown",
   "id": "c4a610c5-1fd7-408f-989e-6fdd588a623f",
   "metadata": {},
   "source": [
    "#### i récuprer toute les valeurs"
   ]
  },
  {
   "cell_type": "code",
   "execution_count": 19,
   "id": "b39d9565-d9c3-451a-b277-0cfc62ac0e93",
   "metadata": {},
   "outputs": [
    {
     "data": {
      "text/plain": [
       "country\n",
       "United States                                     2555\n",
       "India                                              923\n",
       "United Kingdom                                     397\n",
       "Japan                                              226\n",
       "South Korea                                        183\n",
       "                                                  ... \n",
       "Germany, United States, United Kingdom, Canada       1\n",
       "Peru, United States, United Kingdom                  1\n",
       "Saudi Arabia, United Arab Emirates                   1\n",
       "United Kingdom, France, United States, Belgium       1\n",
       "France, Norway, Lebanon, Belgium                     1\n",
       "Name: count, Length: 681, dtype: int64"
      ]
     },
     "execution_count": 19,
     "metadata": {},
     "output_type": "execute_result"
    }
   ],
   "source": [
    "df.country.value_counts()"
   ]
  },
  {
   "cell_type": "markdown",
   "id": "11e9bbd8-43f2-4132-88a8-bfa39f89694d",
   "metadata": {},
   "source": [
    "#### iI récuprer top 3"
   ]
  },
  {
   "cell_type": "code",
   "execution_count": 18,
   "id": "ca6c581f-1314-40d5-850f-4e43462e4a3f",
   "metadata": {},
   "outputs": [
    {
     "data": {
      "text/plain": [
       "country\n",
       "United States     2555\n",
       "India              923\n",
       "United Kingdom     397\n",
       "Name: count, dtype: int64"
      ]
     },
     "execution_count": 18,
     "metadata": {},
     "output_type": "execute_result"
    }
   ],
   "source": [
    "df.country.value_counts()[:3]"
   ]
  },
  {
   "cell_type": "markdown",
   "id": "6ec2ed27-108d-4635-89be-d1170d731c51",
   "metadata": {},
   "source": [
    "#### i récuprer top 3 dans un dictionnaire"
   ]
  },
  {
   "cell_type": "code",
   "execution_count": 21,
   "id": "61eaa575-f532-4a9b-96df-d3d040a61103",
   "metadata": {},
   "outputs": [
    {
     "data": {
      "text/plain": [
       "{'United States': 2555, 'India': 923, 'United Kingdom': 397}"
      ]
     },
     "execution_count": 21,
     "metadata": {},
     "output_type": "execute_result"
    }
   ],
   "source": [
    "df.country.value_counts()[:3].to_dict()"
   ]
  },
  {
   "cell_type": "code",
   "execution_count": 24,
   "id": "a01d99ea-ab0d-483b-a56a-60bdfa3627c8",
   "metadata": {},
   "outputs": [
    {
     "data": {
      "text/plain": [
       "{'United States': 2555, 'India': 923, 'United Kingdom': 397}"
      ]
     },
     "execution_count": 24,
     "metadata": {},
     "output_type": "execute_result"
    }
   ],
   "source": [
    "df['country'].value_counts().head(3).to_dict()"
   ]
  },
  {
   "cell_type": "markdown",
   "id": "9eec6825-ed97-43c3-826b-f76624f067a7",
   "metadata": {},
   "source": [
    "### 2. Nombre de filme sortie chaque année"
   ]
  },
  {
   "cell_type": "code",
   "execution_count": 28,
   "id": "55a39dbd-3d8b-4af8-98f6-6722f0913fba",
   "metadata": {},
   "outputs": [
    {
     "data": {
      "text/plain": [
       "{2018: 1121,\n",
       " 2017: 1012,\n",
       " 2019: 996,\n",
       " 2016: 882,\n",
       " 2020: 868,\n",
       " 2015: 541,\n",
       " 2014: 334,\n",
       " 2013: 267,\n",
       " 2012: 219,\n",
       " 2010: 173}"
      ]
     },
     "execution_count": 28,
     "metadata": {},
     "output_type": "execute_result"
    }
   ],
   "source": [
    "df.release_year.value_counts().head(10).to_dict()"
   ]
  },
  {
   "cell_type": "code",
   "execution_count": 36,
   "id": "166bb769-f2d1-4813-84df-a67697b4d20b",
   "metadata": {},
   "outputs": [
    {
     "data": {
      "text/plain": [
       "{2021: 31,\n",
       " 2020: 868,\n",
       " 2019: 996,\n",
       " 2018: 1121,\n",
       " 2017: 1012,\n",
       " 2016: 882,\n",
       " 2015: 541,\n",
       " 2014: 334,\n",
       " 2013: 267,\n",
       " 2012: 219}"
      ]
     },
     "execution_count": 36,
     "metadata": {},
     "output_type": "execute_result"
    }
   ],
   "source": [
    "df.release_year.value_counts().sort_index(ascending=False)[:10].to_dict()"
   ]
  },
  {
   "cell_type": "markdown",
   "id": "2d36d820-a88a-4cdd-9f44-bed3a72b8e85",
   "metadata": {},
   "source": [
    "### 3. Liste des réalisateur"
   ]
  },
  {
   "cell_type": "code",
   "execution_count": 38,
   "id": "96bc36e2-0ff5-4a19-b44c-cded6b1d30bc",
   "metadata": {},
   "outputs": [
    {
     "data": {
      "text/plain": [
       "array([nan, 'Jorge Michel Grau', 'Gilbert Chan', ..., 'Josef Fares',\n",
       "       'Mozez Singh', 'Sam Dunn'], shape=(4050,), dtype=object)"
      ]
     },
     "execution_count": 38,
     "metadata": {},
     "output_type": "execute_result"
    }
   ],
   "source": [
    "df.director.unique().tolist()"
   ]
  },
  {
   "cell_type": "code",
   "execution_count": 40,
   "id": "f79e40b1-f2ec-4ec2-bc89-1df963b287c8",
   "metadata": {},
   "outputs": [
    {
     "data": {
      "text/plain": [
       "['Jorge Michel Grau',\n",
       " 'Gilbert Chan',\n",
       " 'Shane Acker',\n",
       " 'Robert Luketic',\n",
       " 'Serdar Akar',\n",
       " 'Yasir Al Yasiri',\n",
       " 'Kevin Reynolds',\n",
       " 'Shravan Kumar',\n",
       " 'Vikram Bhatt',\n",
       " 'Zak Hilditch']"
      ]
     },
     "execution_count": 40,
     "metadata": {},
     "output_type": "execute_result"
    }
   ],
   "source": [
    "# dropna() supprimer les valeur nulle\n",
    "# afficher que 10 lignes\n",
    "df.director.dropna().unique().tolist()[:10] "
   ]
  },
  {
   "cell_type": "code",
   "execution_count": 44,
   "id": "041ab621-e49e-4e8b-b640-c75ca1352b75",
   "metadata": {},
   "outputs": [
    {
     "data": {
      "text/plain": [
       "['T',\n",
       " '__abs__',\n",
       " '__add__',\n",
       " '__and__',\n",
       " '__array__',\n",
       " '__array_finalize__',\n",
       " '__array_function__',\n",
       " '__array_interface__',\n",
       " '__array_namespace__',\n",
       " '__array_priority__',\n",
       " '__array_struct__',\n",
       " '__array_ufunc__',\n",
       " '__array_wrap__',\n",
       " '__bool__',\n",
       " '__buffer__',\n",
       " '__class__',\n",
       " '__class_getitem__',\n",
       " '__complex__',\n",
       " '__contains__',\n",
       " '__copy__']"
      ]
     },
     "execution_count": 44,
     "metadata": {},
     "output_type": "execute_result"
    }
   ],
   "source": [
    "# dir() affiche les fonction disponible et qu'on peut utiliser \n",
    "dir(df.director.dropna().unique())[:20]"
   ]
  },
  {
   "cell_type": "code",
   "execution_count": null,
   "id": "27d297d4-a910-4cc1-b366-57a545549761",
   "metadata": {},
   "outputs": [],
   "source": []
  }
 ],
 "metadata": {
  "kernelspec": {
   "display_name": "Python 3 (ipykernel)",
   "language": "python",
   "name": "python3"
  },
  "language_info": {
   "codemirror_mode": {
    "name": "ipython",
    "version": 3
   },
   "file_extension": ".py",
   "mimetype": "text/x-python",
   "name": "python",
   "nbconvert_exporter": "python",
   "pygments_lexer": "ipython3",
   "version": "3.13.2"
  }
 },
 "nbformat": 4,
 "nbformat_minor": 5
}
